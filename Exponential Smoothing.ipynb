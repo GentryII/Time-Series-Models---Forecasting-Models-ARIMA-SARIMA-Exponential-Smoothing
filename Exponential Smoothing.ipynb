{
 "cells": [
  {
   "cell_type": "code",
   "execution_count": 1,
   "id": "79978ea7-e967-4553-ada5-ae93aacda451",
   "metadata": {},
   "outputs": [
    {
     "name": "stderr",
     "output_type": "stream",
     "text": [
      "/tmp/ipykernel_206/2712183153.py:14: FutureWarning: Series.fillna with 'method' is deprecated and will raise in a future version. Use obj.ffill() or obj.bfill() instead.\n",
      "  filled_data_not_transformed = voice_data.fillna(method='ffill')\n",
      "/opt/conda/lib/python3.11/site-packages/statsmodels/tsa/base/tsa_model.py:473: ValueWarning: An unsupported index was provided and will be ignored when e.g. forecasting.\n",
      "  self._init_dates(dates, freq)\n",
      "/opt/conda/lib/python3.11/site-packages/statsmodels/tsa/base/tsa_model.py:836: ValueWarning: No supported index is available. Prediction results will be given with an integer index beginning at `start`.\n",
      "  return get_prediction_index(\n",
      "/opt/conda/lib/python3.11/site-packages/statsmodels/tsa/base/tsa_model.py:836: FutureWarning: No supported index is available. In the next version, calling this method in a model without a supported index will result in an exception.\n",
      "  return get_prediction_index(\n"
     ]
    },
    {
     "name": "stdout",
     "output_type": "stream",
     "text": [
      "Nulls Count: 0\n",
      "NaN Count: 0\n",
      "Outliers based on z-score: 43        4.255762e+09\n",
      "51        3.886478e+09\n",
      "152       4.041404e+09\n",
      "159       4.693068e+09\n",
      "182       4.501757e+09\n",
      "              ...     \n",
      "203493    7.836006e+09\n",
      "205007    6.993776e+09\n",
      "206185    4.051272e+09\n",
      "206264    3.875147e+09\n",
      "206671    7.254125e+09\n",
      "Name: total_volume, Length: 1760, dtype: float64\n",
      "RMSE\n",
      "4.668762414361302\n",
      "MAE\n",
      "4.03020597491953\n",
      "MSE\n",
      "21.797342481752768\n",
      "Final RMSE: 4.668762414361302\n",
      "Final MAE: 4.03020597491953\n",
      "Final MSE: 21.797342481752768\n"
     ]
    },
    {
     "name": "stderr",
     "output_type": "stream",
     "text": [
      "/opt/conda/lib/python3.11/site-packages/statsmodels/tsa/base/tsa_model.py:473: ValueWarning: An unsupported index was provided and will be ignored when e.g. forecasting.\n",
      "  self._init_dates(dates, freq)\n",
      "/opt/conda/lib/python3.11/site-packages/statsmodels/tsa/base/tsa_model.py:836: ValueWarning: No supported index is available. Prediction results will be given with an integer index beginning at `start`.\n",
      "  return get_prediction_index(\n",
      "/opt/conda/lib/python3.11/site-packages/statsmodels/tsa/base/tsa_model.py:836: FutureWarning: No supported index is available. In the next version, calling this method in a model without a supported index will result in an exception.\n",
      "  return get_prediction_index(\n",
      "/opt/conda/lib/python3.11/site-packages/statsmodels/tsa/base/tsa_model.py:473: ValueWarning: An unsupported index was provided and will be ignored when e.g. forecasting.\n",
      "  self._init_dates(dates, freq)\n"
     ]
    },
    {
     "name": "stdout",
     "output_type": "stream",
     "text": [
      "RMSE\n",
      "4.818665170119751\n",
      "MAE\n",
      "4.024637593574883\n",
      "MSE\n",
      "23.219534021725213\n",
      "Final RMSE: 4.668762414361302\n",
      "Final MAE: 4.024637593574883\n",
      "Final MSE: 21.797342481752768\n"
     ]
    },
    {
     "name": "stderr",
     "output_type": "stream",
     "text": [
      "/opt/conda/lib/python3.11/site-packages/statsmodels/tsa/base/tsa_model.py:836: ValueWarning: No supported index is available. Prediction results will be given with an integer index beginning at `start`.\n",
      "  return get_prediction_index(\n",
      "/opt/conda/lib/python3.11/site-packages/statsmodels/tsa/base/tsa_model.py:836: FutureWarning: No supported index is available. In the next version, calling this method in a model without a supported index will result in an exception.\n",
      "  return get_prediction_index(\n",
      "/opt/conda/lib/python3.11/site-packages/statsmodels/tsa/base/tsa_model.py:473: ValueWarning: An unsupported index was provided and will be ignored when e.g. forecasting.\n",
      "  self._init_dates(dates, freq)\n"
     ]
    },
    {
     "name": "stdout",
     "output_type": "stream",
     "text": [
      "RMSE\n",
      "4.823060934133735\n",
      "MAE\n",
      "4.0192447861086595\n",
      "MSE\n",
      "23.261916774366977\n",
      "Final RMSE: 4.668762414361302\n",
      "Final MAE: 4.0192447861086595\n",
      "Final MSE: 21.797342481752768\n"
     ]
    },
    {
     "name": "stderr",
     "output_type": "stream",
     "text": [
      "/opt/conda/lib/python3.11/site-packages/statsmodels/tsa/base/tsa_model.py:836: ValueWarning: No supported index is available. Prediction results will be given with an integer index beginning at `start`.\n",
      "  return get_prediction_index(\n",
      "/opt/conda/lib/python3.11/site-packages/statsmodels/tsa/base/tsa_model.py:836: FutureWarning: No supported index is available. In the next version, calling this method in a model without a supported index will result in an exception.\n",
      "  return get_prediction_index(\n",
      "/opt/conda/lib/python3.11/site-packages/statsmodels/tsa/base/tsa_model.py:473: ValueWarning: An unsupported index was provided and will be ignored when e.g. forecasting.\n",
      "  self._init_dates(dates, freq)\n"
     ]
    },
    {
     "name": "stdout",
     "output_type": "stream",
     "text": [
      "RMSE\n",
      "4.832539964423142\n",
      "MAE\n",
      "4.038825918443387\n",
      "MSE\n",
      "23.353442507746824\n",
      "Final RMSE: 4.668762414361302\n",
      "Final MAE: 4.0192447861086595\n",
      "Final MSE: 21.797342481752768\n"
     ]
    },
    {
     "name": "stderr",
     "output_type": "stream",
     "text": [
      "/opt/conda/lib/python3.11/site-packages/statsmodels/tsa/base/tsa_model.py:836: ValueWarning: No supported index is available. Prediction results will be given with an integer index beginning at `start`.\n",
      "  return get_prediction_index(\n",
      "/opt/conda/lib/python3.11/site-packages/statsmodels/tsa/base/tsa_model.py:836: FutureWarning: No supported index is available. In the next version, calling this method in a model without a supported index will result in an exception.\n",
      "  return get_prediction_index(\n"
     ]
    },
    {
     "name": "stdout",
     "output_type": "stream",
     "text": [
      "RMSE\n",
      "4.7954936447869505\n",
      "MAE\n",
      "4.008720623119107\n",
      "MSE\n",
      "22.99675929719203\n",
      "Final RMSE: 4.668762414361302\n",
      "Final MAE: 4.008720623119107\n",
      "Final MSE: 21.797342481752768\n"
     ]
    },
    {
     "data": {
      "image/png": "[encoded data removed]",
      "text/plain": [
       "<Figure size 640x480 with 1 Axes>"
      ]
     },
     "metadata": {},
     "output_type": "display_data"
    }
   ],
   "source": [
    "import pandas as pd\n",
    "import numpy as np\n",
    "from statsmodels.tsa.holtwinters import ExponentialSmoothing\n",
    "from sklearn.metrics import mean_absolute_error\n",
    "from sklearn.metrics import mean_squared_error\n",
    "from sklearn.model_selection import TimeSeriesSplit\n",
    "import matplotlib.pyplot as plt\n",
    "\n",
    "# Read the data from a CSV file\n",
    "data_load = pd.read_csv('data_copy.csv')\n",
    "data = data_load[data_load['teleservice_cat'] == 'VOICE']\n",
    "voice_data = pd.to_numeric(data['total_volume'], errors='coerce')\n",
    "\n",
    "filled_data_not_transformed = voice_data.fillna(method='ffill')\n",
    "\n",
    "print(f\"Nulls Count: {filled_data_not_transformed.isnull().sum(axis=0)}\")\n",
    "print(f\"NaN Count: {filled_data_not_transformed.isna().sum()}\")\n",
    "\n",
    "# Calculate z-scores\n",
    "z_scores = (filled_data_not_transformed - filled_data_not_transformed.mean()) / filled_data_not_transformed.std()\n",
    "\n",
    "# Identify outliers based on z-score threshold (e.g., +/- 3)\n",
    "outliers = filled_data_not_transformed[abs(z_scores) > 3]\n",
    "\n",
    "print(f\"Outliers based on z-score: {outliers}\")\n",
    "\n",
    "\n",
    "filled_data = np.log1p(filled_data_not_transformed+ 1)\n",
    "\n",
    "# Define parameter grid for alpha\n",
    "param_grid = {'alpha': np.linspace(0.05, 0.95, 19)}  # Include a wider range of alpha values\n",
    "\n",
    "# Define scoring metric\n",
    "def mse(y_true, y_pred):\n",
    "    return mean_squared_error(y_true, y_pred)\n",
    "\n",
    "\n",
    "def mae(y_true, y_pred):  # Define mae function here\n",
    "  return mean_absolute_error(y_true, y_pred)\n",
    "\n",
    "def rmse(y_true, y_pred):\n",
    "  return np.sqrt(mean_squared_error(y_true, y_pred)) \n",
    "\n",
    "best_model = None\n",
    "best_score = np.inf\n",
    "# Define time series split for cross-validation\n",
    "tscv = TimeSeriesSplit(n_splits=5)  # Adjust number of splits as needed\n",
    "\n",
    "# Grid search loop\n",
    "for params in param_grid.values():\n",
    "    # Perform cross-validation\n",
    "                cv_scores = []\n",
    "                cv_scores2 = []\n",
    "                cv_scores3 = []\n",
    "                for train_index, test_index in tscv.split(filled_data):\n",
    "                    train, validation = filled_data.iloc[train_index], filled_data.iloc[test_index]\n",
    "                    model = ExponentialSmoothing(filled_data, trend=None, seasonal=None, seasonal_periods=None)\n",
    "                    alpha_value = params  # Extract the current alpha value from params\n",
    "                    model_fit = model.fit(smoothing_level=0.05)\n",
    "                    predictions = model_fit.forecast(steps=len(validation))\n",
    "                    rmse = np.sqrt(mean_squared_error(validation, predictions))\n",
    "                    mae = mean_absolute_error(validation, predictions)\n",
    "                    mse = mean_squared_error(validation, predictions)\n",
    "                    absolute_errors = np.abs(filled_data - predictions)\n",
    "                    absolute_errors_numeric = pd.to_numeric(absolute_errors, errors='coerce')\n",
    "                   \n",
    "\n",
    "                    print(\"RMSE\")\n",
    "                    print(rmse)\n",
    "                    print(\"MAE\")\n",
    "                    print(mae)\n",
    "                    print(\"MSE\")\n",
    "                    print(mse)\n",
    "                    #print(mape)\n",
    "\n",
    "                    cv_scores.append(rmse)\n",
    "                    cv_scores2.append(mae)\n",
    "                    cv_scores3.append(mse)\n",
    "\n",
    "                    print(f\"Final RMSE: {min(cv_scores)}\")\n",
    "                    print(f\"Final MAE: {min(cv_scores2)}\")\n",
    "                    print(f\"Final MSE: {min(cv_scores3)}\")\n",
    "                    \n",
    "                mean_cv_score = np.mean(cv_scores)\n",
    "                #if mean_cv_score < best_score:\n",
    "                best_score, best_model = mean_cv_score, model\n",
    "\n",
    "\n",
    "\n",
    "\n",
    "plt.scatter(validation, predictions)\n",
    "plt.plot(validation[-20:], validation[-20:], color=\"red\", linestyle=\"--\")\n",
    "plt.xlabel(\"Actual Values\")\n",
    "plt.ylabel(\"Predicted Values\")\n",
    "plt.title(\"Predicted vs. Actual Values\")\n",
    "plt.show()\n",
    "                #best_order = order\n",
    "        #except Exception as e:\n",
    "            #print(f\"Error fitting model: {e}\")\n",
    "            #continue  # Handle potential model fitting errors\n",
    "\n",
    "#print(f\"Final RMSE: {min(cv_scores)}\")\n",
    "#print(f\"Final MAE: {min(cv_scores2)}\")\n",
    "#print(f\"Final MSE: {min(cv_scores3)}\")\n",
    "\n",
    "\n",
    "\n",
    "\n",
    "    ##########################################################################################\n",
    "    \n",
    "      # Pass the single alpha value\n",
    "    #predictions = model_fit.forecast(len(filled_data))\n",
    "    #score = mse(filled_data.iloc[-len(predictions):], predictions)\n",
    "    #if score < best_score:\n",
    "        #best_model = model_fit\n",
    "        #best_score = score\n",
    "    ##########################################################################################    \n",
    "\n",
    "# Use the best model for further analysis or forecasting\n",
    "#print(\"Best Model:\", best_model)\n",
    "#print(\"Best Alpha:\", best_model.params['alpha'])\n",
    "#print(\"Best Score:\", best_score)\n",
    "\n",
    "# Calculate and print all metrics for the best model\n",
    "#best_predictions = best_model.forecast(len(filled_data))\n",
    "#best_mse = mse(filled_data.iloc[-len(best_predictions):], best_predictions)\n",
    "#best_mae = mae(filled_data.iloc[-len(best_predictions):], best_predictions)\n",
    "#best_rmse = rmse(filled_data.iloc[-len(best_predictions):], best_predictions)\n",
    "\n",
    "#print(\"Best Model:\", best_model)\n",
    "#print(\"Best Alpha:\", best_model.params['alpha'])  # Uncomment if needed\n",
    "#print(\"Best MSE:\", best_mse)\n",
    "#print(\"Best MAE:\", best_mae)\n",
    "#print(\"Best RMSE:\", best_rmse)\n"
   ]
  },
  {
   "cell_type": "code",
   "execution_count": null,
   "id": "80dd280a-1534-4946-86a3-3eff9e3f74b8",
   "metadata": {},
   "outputs": [],
   "source": []
  },
  {
   "cell_type": "code",
   "execution_count": null,
   "id": "092ee0bd-ac49-455a-b751-a93b6aceeb1b",
   "metadata": {},
   "outputs": [],
   "source": []
  }
 ],
 "metadata": {
  "kernelspec": {
   "display_name": "Python 3 (ipykernel)",
   "language": "python",
   "name": "python3"
  },
  "language_info": {
   "codemirror_mode": {
    "name": "ipython",
    "version": 3
   },
   "file_extension": ".py",
   "mimetype": "text/x-python",
   "name": "python",
   "nbconvert_exporter": "python",
   "pygments_lexer": "ipython3",
   "version": "3.11.8"
  }
 },
 "nbformat": 4,
 "nbformat_minor": 5
}
