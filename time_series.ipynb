{
 "cells": [
  {
   "cell_type": "markdown",
   "id": "1f4162df",
   "metadata": {},
   "source": [
    "**Data Preprocessing** - Import the necessary libraries for data preparation for model training and testing"
   ]
  },
  {
   "cell_type": "code",
   "execution_count": null,
   "id": "02816f27",
   "metadata": {
    "vscode": {
     "languageId": "plaintext"
    }
   },
   "outputs": [],
   "source": [
    "import pandas as pd\n",
    "from datetime import datetime"
   ]
  },
  {
   "cell_type": "markdown",
   "id": "083246bd",
   "metadata": {},
   "source": [
    "Loading the data"
   ]
  },
  {
   "cell_type": "code",
   "execution_count": null,
   "id": "9f788d92",
   "metadata": {
    "vscode": {
     "languageId": "plaintext"
    }
   },
   "outputs": [],
   "source": [
    "data = pd.read_csv('data_copy.csv')\n",
    "\n",
    "# Extract year\n",
    "data['year'] = pd.to_datetime(data['period_id'], format='%Y%m%d').dt.year\n",
    "\n",
    "# Extract month\n",
    "data['month'] = pd.to_datetime(data['period_id'], format='%Y%m%d').dt.month_name()  # Month name (e.g., January)\n",
    "\n",
    "# Extract day of month\n",
    "data['day_of_month'] = pd.to_datetime(data['period_id'], format='%Y%m%d').dt.day\n",
    "\n",
    "# Extract day of week \n",
    "data['day_of_week'] = pd.to_datetime(data['period_id'], format='%Y%m%d').dt.strftime('%A')  # Day of week (e.g., Monday)\n",
    "\n",
    "# You can add similar logic to extract other features like quarter or week of year (if needed)\n",
    "data = data.sort_values(by='period_id')\n",
    "# Select rows where 'teleservice_cat' is 'VOICE'\n",
    "voice_data = data[data['teleservice_cat'] == 'VOICE']\n",
    "voice_data_not_transformed = voice_data.ffill()"
   ]
  },
  {
   "cell_type": "markdown",
   "id": "4af7cec5",
   "metadata": {},
   "source": [
    "**Outlier Detection** - z-score"
   ]
  },
  {
   "cell_type": "code",
   "execution_count": null,
   "id": "02ef58b1",
   "metadata": {
    "vscode": {
     "languageId": "plaintext"
    }
   },
   "outputs": [],
   "source": [
    "# Calculate z-scores\n",
    "z_scores = (voice_data - voice_data.mean()) / voice_data.std()\n",
    "# Identify outliers based on z-score threshold (e.g., +/- 3)\n",
    "outliers = voice_data[abs(z_scores) > 3]\n",
    "\n",
    "# Replace outliers with the mean\n",
    "handled_outliers = voice_data.where(~(abs(z_scores) > 3), voice_data.mean())\n",
    "\n",
    "model_data = np.log1p(voice_data+ 1)\n"
   ]
  }
 ],
 "metadata": {
  "language_info": {
   "name": "python"
  }
 },
 "nbformat": 4,
 "nbformat_minor": 5
}
